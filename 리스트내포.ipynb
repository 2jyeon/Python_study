{
  "nbformat": 4,
  "nbformat_minor": 0,
  "metadata": {
    "colab": {
      "provenance": [],
      "authorship_tag": "ABX9TyMPGuqOpH5HTbGqqy2KQqDd",
      "include_colab_link": true
    },
    "kernelspec": {
      "name": "python3",
      "display_name": "Python 3"
    },
    "language_info": {
      "name": "python"
    }
  },
  "cells": [
    {
      "cell_type": "markdown",
      "metadata": {
        "id": "view-in-github",
        "colab_type": "text"
      },
      "source": [
        "<a href=\"https://colab.research.google.com/github/2jyeon/Python_study/blob/main/%EB%A6%AC%EC%8A%A4%ED%8A%B8%EB%82%B4%ED%8F%AC.ipynb\" target=\"_parent\"><img src=\"https://colab.research.google.com/assets/colab-badge.svg\" alt=\"Open In Colab\"/></a>"
      ]
    },
    {
      "cell_type": "markdown",
      "source": [
        "# 리스트 내포(List comprehension)\n",
        "\n",
        "list_A 리스트의 각 항목에 3을 곱한 결과를 result 리스트에 담아보자."
      ],
      "metadata": {
        "id": "91cDvuY2h9Au"
      }
    },
    {
      "cell_type": "code",
      "source": [
        "list_A = [1, 2, 3, 4]"
      ],
      "metadata": {
        "id": "TfPrx_vhnlLz"
      },
      "execution_count": 3,
      "outputs": []
    },
    {
      "cell_type": "markdown",
      "source": [
        "## 1. 리스트 안에서 for문 사용하기"
      ],
      "metadata": {
        "id": "-Fs-FeBFmQyR"
      }
    },
    {
      "cell_type": "code",
      "source": [
        "result = []\n",
        "for num in list_A:\n",
        "  result.append(num*3)\n",
        "\n",
        "print(result)"
      ],
      "metadata": {
        "colab": {
          "base_uri": "https://localhost:8080/"
        },
        "id": "SrNS7Xftip-x",
        "outputId": "4fcf63a1-db7e-4b5e-b4b8-9f096fc405e5"
      },
      "execution_count": 4,
      "outputs": [
        {
          "output_type": "stream",
          "name": "stdout",
          "text": [
            "[3, 6, 9, 12]\n"
          ]
        }
      ]
    },
    {
      "cell_type": "markdown",
      "source": [
        "리스트 내포를 사용하여 같은 기능을 구현해보자.\n",
        "## 2. 리스트 내포 사용하기"
      ],
      "metadata": {
        "id": "9iSkwopUmf_e"
      }
    },
    {
      "cell_type": "code",
      "source": [
        "result = [num*3 for num in list_A]\n",
        "print(result)"
      ],
      "metadata": {
        "colab": {
          "base_uri": "https://localhost:8080/"
        },
        "id": "44TzqCeImgMv",
        "outputId": "808aba37-a675-42a9-9c44-b01bee6cd138"
      },
      "execution_count": 5,
      "outputs": [
        {
          "output_type": "stream",
          "name": "stdout",
          "text": [
            "[3, 6, 9, 12]\n"
          ]
        }
      ]
    },
    {
      "cell_type": "markdown",
      "source": [
        "### (1) 리스트 내포 안에 if 조건 사용하기\n",
        "```\n",
        "[표현식 for 항목 in 반복가능객체 if 조건문]\n",
        "```"
      ],
      "metadata": {
        "id": "Shl1sSiknsVp"
      }
    },
    {
      "cell_type": "code",
      "source": [
        "result = [num*3 for num in list_A if num > 2]\n",
        "print(result)"
      ],
      "metadata": {
        "colab": {
          "base_uri": "https://localhost:8080/"
        },
        "id": "VHjzZ70Un-Yj",
        "outputId": "e96300d5-e5d1-45ac-a20a-100befa35759"
      },
      "execution_count": 6,
      "outputs": [
        {
          "output_type": "stream",
          "name": "stdout",
          "text": [
            "[9, 12]\n"
          ]
        }
      ]
    },
    {
      "cell_type": "markdown",
      "source": [
        "### (2) for문 여러개\n",
        "\n",
        "```\n",
        "[표현식 for 항목1 in 반복가능객체1 if 조건문1  \n",
        "        for 항목2 in 반복가능객체2 if 조건문2  \n",
        "        ...  \n",
        "        for 항목n in 반복가능객체n if 조건문n]\n",
        "```\n",
        "\n"
      ],
      "metadata": {
        "id": "ddsIE-NwoW4L"
      }
    },
    {
      "cell_type": "code",
      "source": [
        "# 구구단 만들기 (1단, 2단)\n",
        "result = [x*y for x in range(1, 3)\n",
        "              for y in range(1,10)]\n",
        "print(result)"
      ],
      "metadata": {
        "colab": {
          "base_uri": "https://localhost:8080/"
        },
        "id": "oKdayL4OoXay",
        "outputId": "1331852b-6f23-4536-d0c5-e7afb3d54c67"
      },
      "execution_count": 11,
      "outputs": [
        {
          "output_type": "stream",
          "name": "stdout",
          "text": [
            "[1, 2, 3, 4, 5, 6, 7, 8, 9, 2, 4, 6, 8, 10, 12, 14, 16, 18]\n"
          ]
        }
      ]
    },
    {
      "cell_type": "markdown",
      "source": [
        "출처  \n",
        "[점프투파이썬](https://wikidocs.net/22)"
      ],
      "metadata": {
        "id": "cF1_JYQqht0a"
      }
    }
  ]
}