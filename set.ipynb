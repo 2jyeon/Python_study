{
  "nbformat": 4,
  "nbformat_minor": 0,
  "metadata": {
    "colab": {
      "provenance": [],
      "authorship_tag": "ABX9TyMZuXErxTtdimO0Jz0S2SCi",
      "include_colab_link": true
    },
    "kernelspec": {
      "name": "python3",
      "display_name": "Python 3"
    },
    "language_info": {
      "name": "python"
    }
  },
  "cells": [
    {
      "cell_type": "markdown",
      "metadata": {
        "id": "view-in-github",
        "colab_type": "text"
      },
      "source": [
        "<a href=\"https://colab.research.google.com/github/2jyeon/Python_study/blob/main/set.ipynb\" target=\"_parent\"><img src=\"https://colab.research.google.com/assets/colab-badge.svg\" alt=\"Open In Colab\"/></a>"
      ]
    },
    {
      "cell_type": "markdown",
      "source": [
        "# 집합(set)"
      ],
      "metadata": {
        "id": "QsdaxtbPpY5d"
      }
    },
    {
      "cell_type": "markdown",
      "source": [
        "## 1. 표현식"
      ],
      "metadata": {
        "id": "kKEcENTtqUZG"
      }
    },
    {
      "cell_type": "code",
      "source": [
        "set(리스트 혹은 문자열)"
      ],
      "metadata": {
        "id": "chS6JAVIpgnR"
      },
      "execution_count": null,
      "outputs": []
    },
    {
      "cell_type": "markdown",
      "source": [
        "## 2. 특징"
      ],
      "metadata": {
        "id": "xzfZyn53qWlf"
      }
    },
    {
      "cell_type": "markdown",
      "source": [
        "- 중복 허용 X\n",
        "- 순서가 없음(Unordered)\n",
        "- 교집합, 합집합, 차집합 연산 가능\n",
        "- 확장함수: add, update, remove"
      ],
      "metadata": {
        "id": "MuSpSqXKqPTc"
      }
    },
    {
      "cell_type": "markdown",
      "source": [
        "## 3. 예제"
      ],
      "metadata": {
        "id": "FQMWg5rppinl"
      }
    },
    {
      "cell_type": "code",
      "source": [
        "s1 = set([1, 1, 2, 3, 4, 5, 5, 5])\n",
        "print(s1)"
      ],
      "metadata": {
        "colab": {
          "base_uri": "https://localhost:8080/"
        },
        "id": "oqOZvn8hpo3L",
        "outputId": "514258d4-92bd-4a99-e7c1-909514453540"
      },
      "execution_count": 1,
      "outputs": [
        {
          "output_type": "stream",
          "name": "stdout",
          "text": [
            "{1, 2, 3, 4, 5}\n"
          ]
        }
      ]
    },
    {
      "cell_type": "code",
      "source": [
        "s2 = set(\"Hello\")\n",
        "print(s2)"
      ],
      "metadata": {
        "colab": {
          "base_uri": "https://localhost:8080/"
        },
        "id": "B9QtLn5dp2GW",
        "outputId": "c7ecdea3-dd04-4ce1-ff21-74c9627e0728"
      },
      "execution_count": 2,
      "outputs": [
        {
          "output_type": "stream",
          "name": "stdout",
          "text": [
            "{'e', 'l', 'o', 'H'}\n"
          ]
        }
      ]
    },
    {
      "cell_type": "markdown",
      "source": [
        "## 4. 응용\n"
      ],
      "metadata": {
        "id": "YtdruNc6qkmV"
      }
    },
    {
      "cell_type": "code",
      "source": [
        "s1 = set([1, 2, 2, 3, 3, 3, 4, 5])\n",
        "s2 = set([4, 5, 5, 6])"
      ],
      "metadata": {
        "id": "aP2oi9_oq7kS"
      },
      "execution_count": 4,
      "outputs": []
    },
    {
      "cell_type": "markdown",
      "source": [
        "### (1) 교집합"
      ],
      "metadata": {
        "id": "OGON8ASIq5ee"
      }
    },
    {
      "cell_type": "code",
      "source": [
        "s1&s2"
      ],
      "metadata": {
        "colab": {
          "base_uri": "https://localhost:8080/"
        },
        "id": "jPf5r6_mqLqX",
        "outputId": "2ff8b652-8090-4786-b131-f766fa6b0a4b"
      },
      "execution_count": 5,
      "outputs": [
        {
          "output_type": "execute_result",
          "data": {
            "text/plain": [
              "{4, 5}"
            ]
          },
          "metadata": {},
          "execution_count": 5
        }
      ]
    },
    {
      "cell_type": "markdown",
      "source": [
        "### (2) 합집합"
      ],
      "metadata": {
        "id": "Ec3iKa3YrJon"
      }
    },
    {
      "cell_type": "code",
      "source": [
        "s1|s2"
      ],
      "metadata": {
        "colab": {
          "base_uri": "https://localhost:8080/"
        },
        "outputId": "edc06678-fdf7-4797-8693-f8f049979af3",
        "id": "-vixRFkJrJoo"
      },
      "execution_count": 6,
      "outputs": [
        {
          "output_type": "execute_result",
          "data": {
            "text/plain": [
              "{1, 2, 3, 4, 5, 6}"
            ]
          },
          "metadata": {},
          "execution_count": 6
        }
      ]
    },
    {
      "cell_type": "markdown",
      "source": [
        "### (3) 차집합"
      ],
      "metadata": {
        "id": "6_7qR0h3rWRO"
      }
    },
    {
      "cell_type": "code",
      "source": [
        "s1 - s2"
      ],
      "metadata": {
        "colab": {
          "base_uri": "https://localhost:8080/"
        },
        "outputId": "5db42887-add9-4422-9c0b-12197056516b",
        "id": "gyeqHDXVrWRQ"
      },
      "execution_count": 11,
      "outputs": [
        {
          "output_type": "execute_result",
          "data": {
            "text/plain": [
              "{1, 2, 3}"
            ]
          },
          "metadata": {},
          "execution_count": 11
        }
      ]
    },
    {
      "cell_type": "code",
      "source": [
        "s2 - s1"
      ],
      "metadata": {
        "colab": {
          "base_uri": "https://localhost:8080/"
        },
        "id": "n6qakUyQrsza",
        "outputId": "cc43b40a-d3b9-43cc-f39a-52e2700359fc"
      },
      "execution_count": 12,
      "outputs": [
        {
          "output_type": "execute_result",
          "data": {
            "text/plain": [
              "{6}"
            ]
          },
          "metadata": {},
          "execution_count": 12
        }
      ]
    },
    {
      "cell_type": "code",
      "source": [
        "s1.difference(s2)"
      ],
      "metadata": {
        "colab": {
          "base_uri": "https://localhost:8080/"
        },
        "id": "zNAJjeNfrilf",
        "outputId": "0d5ba410-9590-482c-ac41-81a2206e8c53"
      },
      "execution_count": 13,
      "outputs": [
        {
          "output_type": "execute_result",
          "data": {
            "text/plain": [
              "{1, 2, 3}"
            ]
          },
          "metadata": {},
          "execution_count": 13
        }
      ]
    },
    {
      "cell_type": "code",
      "source": [
        "s2.difference(s1)"
      ],
      "metadata": {
        "colab": {
          "base_uri": "https://localhost:8080/"
        },
        "id": "8MuwhuYCruKP",
        "outputId": "4e061b71-cb78-42b5-b938-9f3774758fe9"
      },
      "execution_count": 14,
      "outputs": [
        {
          "output_type": "execute_result",
          "data": {
            "text/plain": [
              "{6}"
            ]
          },
          "metadata": {},
          "execution_count": 14
        }
      ]
    },
    {
      "cell_type": "markdown",
      "source": [
        "## 5. 관련 함수"
      ],
      "metadata": {
        "id": "aI_lIjEpr9Nk"
      }
    },
    {
      "cell_type": "markdown",
      "source": [
        "### (1) add\n",
        "1개의 값만 추가"
      ],
      "metadata": {
        "id": "-RCwbelFsJnY"
      }
    },
    {
      "cell_type": "code",
      "source": [
        "s1 = set([1, 2, 3])\n",
        "s1.add(4)\n",
        "s1"
      ],
      "metadata": {
        "colab": {
          "base_uri": "https://localhost:8080/"
        },
        "id": "a-z0et7ysEXk",
        "outputId": "36b4487e-df3f-4b2f-dfb3-bfaa8281974d"
      },
      "execution_count": 15,
      "outputs": [
        {
          "output_type": "execute_result",
          "data": {
            "text/plain": [
              "{1, 2, 3, 4}"
            ]
          },
          "metadata": {},
          "execution_count": 15
        }
      ]
    },
    {
      "cell_type": "markdown",
      "source": [
        "### (2) update\n",
        "값 여러개 추가"
      ],
      "metadata": {
        "id": "DJZYo8xxsUJ1"
      }
    },
    {
      "cell_type": "code",
      "source": [
        "s1 = set([1, 2, 3])\n",
        "s1.update([4, 5, 6])\n",
        "s1"
      ],
      "metadata": {
        "colab": {
          "base_uri": "https://localhost:8080/"
        },
        "outputId": "aceb5a97-59a5-4910-c2ae-2bf79c8c99cf",
        "id": "Yi4WgIGEsUJ2"
      },
      "execution_count": 17,
      "outputs": [
        {
          "output_type": "execute_result",
          "data": {
            "text/plain": [
              "{1, 2, 3, 4, 5, 6}"
            ]
          },
          "metadata": {},
          "execution_count": 17
        }
      ]
    },
    {
      "cell_type": "markdown",
      "source": [
        "### (3) remove\n",
        "특정 값 제거"
      ],
      "metadata": {
        "id": "hnb_gsE6sUWs"
      }
    },
    {
      "cell_type": "code",
      "source": [
        "s1 = set([1, 2, 3])\n",
        "s1.remove(2)\n",
        "s1"
      ],
      "metadata": {
        "colab": {
          "base_uri": "https://localhost:8080/"
        },
        "outputId": "b89c9b4c-c8b3-4fa4-9b16-32e8834b81f4",
        "id": "wTxVyX_lsUWs"
      },
      "execution_count": 18,
      "outputs": [
        {
          "output_type": "execute_result",
          "data": {
            "text/plain": [
              "{1, 3}"
            ]
          },
          "metadata": {},
          "execution_count": 18
        }
      ]
    }
  ]
}