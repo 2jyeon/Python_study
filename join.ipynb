{
 "cells": [
  {
   "cell_type": "markdown",
   "metadata": {},
   "source": [
    "# join 함수\n",
    "- 리스트를 문자열로 합쳐주는 함수\n",
    "\n",
    "- '구분자'.join(리스트)\n",
    "  - 구분자가 공백이라면 ''.join(리스트)"
   ]
  },
  {
   "cell_type": "markdown",
   "metadata": {},
   "source": [
    "## 예제"
   ]
  },
  {
   "cell_type": "code",
   "execution_count": 3,
   "metadata": {},
   "outputs": [
    {
     "name": "stdout",
     "output_type": "stream",
     "text": [
      "['a', 'b', 'c', '1']\n"
     ]
    }
   ],
   "source": [
    "list_A = ['a', 'b', 'c', '1']\n",
    "print(list_A)"
   ]
  },
  {
   "cell_type": "markdown",
   "metadata": {},
   "source": [
    "### 리스트를 문자열로 변환하기\n",
    "#### 1. join 이용"
   ]
  },
  {
   "cell_type": "code",
   "execution_count": 5,
   "metadata": {},
   "outputs": [
    {
     "name": "stdout",
     "output_type": "stream",
     "text": [
      "abc1\n"
     ]
    }
   ],
   "source": [
    "result1 = ''.join(list_A)\n",
    "print(result1)"
   ]
  },
  {
   "cell_type": "markdown",
   "metadata": {},
   "source": [
    "#### 2. 문자열을 하나씩 합치기"
   ]
  },
  {
   "cell_type": "code",
   "execution_count": 10,
   "metadata": {},
   "outputs": [
    {
     "name": "stdout",
     "output_type": "stream",
     "text": [
      "i: a\n",
      "result2: a\n",
      "i: b\n",
      "result2: ab\n",
      "i: c\n",
      "result2: abc\n",
      "i: 1\n",
      "result2: abc1\n",
      "---------\n",
      " final: abc1\n"
     ]
    }
   ],
   "source": [
    "result2 = ''\n",
    "for i in list_A:\n",
    "    print(\"i: {0}\".format(i))\n",
    "    result2 += i\n",
    "    print(\"result2: {0}\".format(result2))\n",
    "\n",
    "print(\"---------\\n final: {0}\".format(result2))"
   ]
  },
  {
   "cell_type": "markdown",
   "metadata": {},
   "source": [
    "### 구분자 이용해보기"
   ]
  },
  {
   "cell_type": "code",
   "execution_count": 11,
   "metadata": {},
   "outputs": [
    {
     "name": "stdout",
     "output_type": "stream",
     "text": [
      "a_b_c_1\n"
     ]
    }
   ],
   "source": [
    "result3 = '_'.join(list_A)\n",
    "print(result3)"
   ]
  },
  {
   "cell_type": "code",
   "execution_count": 15,
   "metadata": {},
   "outputs": [
    {
     "name": "stdout",
     "output_type": "stream",
     "text": [
      "a\n",
      "b\n",
      "c\n",
      "1\n"
     ]
    }
   ],
   "source": [
    "result4 = '\\n'.join(list_A)\n",
    "print(result4)"
   ]
  },
  {
   "cell_type": "markdown",
   "metadata": {},
   "source": [
    "출처: https://blockdmask.tistory.com/"
   ]
  }
 ],
 "metadata": {
  "kernelspec": {
   "display_name": "Python 3.10.6 ('bigcon_env')",
   "language": "python",
   "name": "python3"
  },
  "language_info": {
   "codemirror_mode": {
    "name": "ipython",
    "version": 3
   },
   "file_extension": ".py",
   "mimetype": "text/x-python",
   "name": "python",
   "nbconvert_exporter": "python",
   "pygments_lexer": "ipython3",
   "version": "3.10.6"
  },
  "orig_nbformat": 4,
  "vscode": {
   "interpreter": {
    "hash": "296b5ba010412a548b3126eb5d14d3c3ee37e24407f1985a7e17620798204d10"
   }
  }
 },
 "nbformat": 4,
 "nbformat_minor": 2
}
