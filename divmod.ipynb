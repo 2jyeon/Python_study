{
  "nbformat": 4,
  "nbformat_minor": 0,
  "metadata": {
    "colab": {
      "provenance": [],
      "authorship_tag": "ABX9TyPnDp3BQ7Ajk2LRfn7PzDu+",
      "include_colab_link": true
    },
    "kernelspec": {
      "name": "python3",
      "display_name": "Python 3"
    },
    "language_info": {
      "name": "python"
    }
  },
  "cells": [
    {
      "cell_type": "markdown",
      "metadata": {
        "id": "view-in-github",
        "colab_type": "text"
      },
      "source": [
        "<a href=\"https://colab.research.google.com/github/2jyeon/Python_study/blob/main/divmod.ipynb\" target=\"_parent\"><img src=\"https://colab.research.google.com/assets/colab-badge.svg\" alt=\"Open In Colab\"/></a>"
      ]
    },
    {
      "cell_type": "markdown",
      "source": [
        "# 1. 몫 구하기\n",
        "// 연산자"
      ],
      "metadata": {
        "id": "RiQjtCDxLhU1"
      }
    },
    {
      "cell_type": "code",
      "source": [
        "tmp = 7 // 2\n",
        "print(tmp)"
      ],
      "metadata": {
        "colab": {
          "base_uri": "https://localhost:8080/"
        },
        "id": "gHKmvMDLLlYN",
        "outputId": "203b07a2-aa33-4e1b-d4d8-7a01764ac7a7"
      },
      "execution_count": 1,
      "outputs": [
        {
          "output_type": "stream",
          "name": "stdout",
          "text": [
            "3\n"
          ]
        }
      ]
    },
    {
      "cell_type": "markdown",
      "source": [
        "# 2. 나머지 구하기\n",
        "% 연산자\n"
      ],
      "metadata": {
        "id": "gRLCFn9YLxcO"
      }
    },
    {
      "cell_type": "code",
      "source": [
        "tmp = 7 % 2\n",
        "print(tmp)"
      ],
      "metadata": {
        "colab": {
          "base_uri": "https://localhost:8080/"
        },
        "id": "3gKeWScaLz3J",
        "outputId": "40916928-5439-4f81-c701-da14b854bd11"
      },
      "execution_count": 2,
      "outputs": [
        {
          "output_type": "stream",
          "name": "stdout",
          "text": [
            "1\n"
          ]
        }
      ]
    },
    {
      "cell_type": "markdown",
      "source": [
        "# 3. 몫과 나머지를 동시에 구하기\n",
        "divmod(number1, number2)  \n",
        "number1을 number2로 나눴을 때의 몫과 나머지를 튜플 형식으로 반환"
      ],
      "metadata": {
        "id": "_DgL1ts8L3am"
      }
    },
    {
      "cell_type": "code",
      "source": [
        "tmp1, tmp2 = divmod(7, 2)\n",
        "print('divmod(7, 2) =', divmod(7, 2))\n",
        "print('tmp1 =', tmp1, '\\ntmp2 =', tmp2)"
      ],
      "metadata": {
        "colab": {
          "base_uri": "https://localhost:8080/"
        },
        "id": "nh6TW53pL6mn",
        "outputId": "5b76f560-8041-4083-f3bd-4e79a0b1dc9a"
      },
      "execution_count": 10,
      "outputs": [
        {
          "output_type": "stream",
          "name": "stdout",
          "text": [
            "divmod(7, 2) = (3, 1)\n",
            "tmp1 = 3 \n",
            "tmp2 = 1\n"
          ]
        }
      ]
    }
  ]
}